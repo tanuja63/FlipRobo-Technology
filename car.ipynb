{
 "cells": [
  {
   "cell_type": "code",
   "execution_count": 1,
   "metadata": {},
   "outputs": [],
   "source": [
    "#importing all necessary libraries\n",
    "import pandas as pd\n",
    "import numpy as np\n",
    "import matplotlib.pyplot as plt\n",
    "import seaborn as sns\n",
    "from sklearn.linear_model import LinearRegression\n",
    "from sklearn.tree import DecisionTreeRegressor\n",
    "from sklearn.svm import SVR\n",
    "from sklearn.linear_model import Lasso,Ridge\n",
    "from sklearn.model_selection import cross_val_score,train_test_split\n",
    "from sklearn.preprocessing import LabelEncoder\n",
    "from sklearn.preprocessing import StandardScaler\n",
    "from sklearn.metrics import r2_score,mean_squared_error,mean_absolute_error\n",
    "import warnings\n",
    "warnings.filterwarnings('ignore')"
   ]
  },
  {
   "cell_type": "code",
   "execution_count": 2,
   "metadata": {},
   "outputs": [],
   "source": [
    "#load the data set\n",
    "ds=pd.read_csv(\"Used_car_price1.csv\")"
   ]
  },
  {
   "cell_type": "code",
   "execution_count": 3,
   "metadata": {},
   "outputs": [
    {
     "data": {
      "text/html": [
       "<div>\n",
       "<style scoped>\n",
       "    .dataframe tbody tr th:only-of-type {\n",
       "        vertical-align: middle;\n",
       "    }\n",
       "\n",
       "    .dataframe tbody tr th {\n",
       "        vertical-align: top;\n",
       "    }\n",
       "\n",
       "    .dataframe thead th {\n",
       "        text-align: right;\n",
       "    }\n",
       "</style>\n",
       "<table border=\"1\" class=\"dataframe\">\n",
       "  <thead>\n",
       "    <tr style=\"text-align: right;\">\n",
       "      <th></th>\n",
       "      <th>Unnamed: 0</th>\n",
       "      <th>Fuel</th>\n",
       "      <th>Driven_kilometers</th>\n",
       "      <th>Num_of_owners</th>\n",
       "      <th>Transmission</th>\n",
       "      <th>Location</th>\n",
       "      <th>Name</th>\n",
       "      <th>Year</th>\n",
       "      <th>Company</th>\n",
       "      <th>Price1</th>\n",
       "    </tr>\n",
       "  </thead>\n",
       "  <tbody>\n",
       "    <tr>\n",
       "      <th>0</th>\n",
       "      <td>0</td>\n",
       "      <td>Petrol</td>\n",
       "      <td>23 km</td>\n",
       "      <td>1st Owner</td>\n",
       "      <td>NaN</td>\n",
       "      <td>DL-4C</td>\n",
       "      <td>Maruti OMNI E</td>\n",
       "      <td>2014</td>\n",
       "      <td>Maruti</td>\n",
       "      <td>2,00,199</td>\n",
       "    </tr>\n",
       "    <tr>\n",
       "      <th>1</th>\n",
       "      <td>1</td>\n",
       "      <td>Petrol</td>\n",
       "      <td>12,535 km</td>\n",
       "      <td>1st Owner</td>\n",
       "      <td>MANUAL</td>\n",
       "      <td>DL-12</td>\n",
       "      <td>Maruti Alto 800</td>\n",
       "      <td>2014</td>\n",
       "      <td>Maruti</td>\n",
       "      <td>3,21,599</td>\n",
       "    </tr>\n",
       "    <tr>\n",
       "      <th>2</th>\n",
       "      <td>2</td>\n",
       "      <td>Petrol</td>\n",
       "      <td>2,589 km</td>\n",
       "      <td>1st Owner</td>\n",
       "      <td>NaN</td>\n",
       "      <td>UP-32</td>\n",
       "      <td>Hyundai VENUE S</td>\n",
       "      <td>2021</td>\n",
       "      <td>Hyundai</td>\n",
       "      <td>8,08,699</td>\n",
       "    </tr>\n",
       "    <tr>\n",
       "      <th>3</th>\n",
       "      <td>3</td>\n",
       "      <td>Petrol</td>\n",
       "      <td>40,184 km</td>\n",
       "      <td>1st Owner</td>\n",
       "      <td>MANUAL</td>\n",
       "      <td>DL-8C</td>\n",
       "      <td>Maruti Alto K10</td>\n",
       "      <td>2013</td>\n",
       "      <td>Maruti</td>\n",
       "      <td>2,42,299</td>\n",
       "    </tr>\n",
       "    <tr>\n",
       "      <th>4</th>\n",
       "      <td>4</td>\n",
       "      <td>Petrol</td>\n",
       "      <td>9,217 km</td>\n",
       "      <td>1st Owner</td>\n",
       "      <td>MANUAL</td>\n",
       "      <td>DL-8C</td>\n",
       "      <td>Maruti Alto 800</td>\n",
       "      <td>2015</td>\n",
       "      <td>Maruti</td>\n",
       "      <td>2,76,199</td>\n",
       "    </tr>\n",
       "    <tr>\n",
       "      <th>5</th>\n",
       "      <td>5</td>\n",
       "      <td>Petrol</td>\n",
       "      <td>31,999 km</td>\n",
       "      <td>1st Owner</td>\n",
       "      <td>MANUAL</td>\n",
       "      <td>DL-1C</td>\n",
       "      <td>Maruti Swift LXI</td>\n",
       "      <td>2012</td>\n",
       "      <td>Maruti</td>\n",
       "      <td>3,22,399</td>\n",
       "    </tr>\n",
       "    <tr>\n",
       "      <th>6</th>\n",
       "      <td>6</td>\n",
       "      <td>Petrol</td>\n",
       "      <td>19,415 km</td>\n",
       "      <td>NaN</td>\n",
       "      <td>NaN</td>\n",
       "      <td>DL-13</td>\n",
       "      <td>Honda Brio 1.2</td>\n",
       "      <td>2012</td>\n",
       "      <td>Honda</td>\n",
       "      <td>2,83,799</td>\n",
       "    </tr>\n",
       "    <tr>\n",
       "      <th>7</th>\n",
       "      <td>7</td>\n",
       "      <td>Petrol</td>\n",
       "      <td>22,836 km</td>\n",
       "      <td>NaN</td>\n",
       "      <td>NaN</td>\n",
       "      <td>UP-16</td>\n",
       "      <td>Hyundai Grand i10</td>\n",
       "      <td>2014</td>\n",
       "      <td>Hyundai</td>\n",
       "      <td>4,11,999</td>\n",
       "    </tr>\n",
       "    <tr>\n",
       "      <th>8</th>\n",
       "      <td>8</td>\n",
       "      <td>Petrol</td>\n",
       "      <td>11,691 km</td>\n",
       "      <td>NaN</td>\n",
       "      <td>NaN</td>\n",
       "      <td>DL-12</td>\n",
       "      <td>Maruti Alto K10</td>\n",
       "      <td>2017</td>\n",
       "      <td>Maruti</td>\n",
       "      <td>3,81,599</td>\n",
       "    </tr>\n",
       "    <tr>\n",
       "      <th>9</th>\n",
       "      <td>9</td>\n",
       "      <td>Petrol</td>\n",
       "      <td>24,353 km</td>\n",
       "      <td>1st Owner</td>\n",
       "      <td>MANUAL</td>\n",
       "      <td>DL-4C</td>\n",
       "      <td>Maruti Alto K10</td>\n",
       "      <td>2011</td>\n",
       "      <td>Maruti</td>\n",
       "      <td>2,34,999</td>\n",
       "    </tr>\n",
       "    <tr>\n",
       "      <th>10</th>\n",
       "      <td>10</td>\n",
       "      <td>Petrol</td>\n",
       "      <td>12,749 km</td>\n",
       "      <td>NaN</td>\n",
       "      <td>NaN</td>\n",
       "      <td>HR-51</td>\n",
       "      <td>Hyundai Eon MAGNA</td>\n",
       "      <td>2015</td>\n",
       "      <td>Hyundai</td>\n",
       "      <td>3,22,599</td>\n",
       "    </tr>\n",
       "    <tr>\n",
       "      <th>11</th>\n",
       "      <td>11</td>\n",
       "      <td>Petrol</td>\n",
       "      <td>39,300 km</td>\n",
       "      <td>NaN</td>\n",
       "      <td>NaN</td>\n",
       "      <td>DL-4C</td>\n",
       "      <td>Maruti Zen Estilo</td>\n",
       "      <td>2011</td>\n",
       "      <td>Maruti</td>\n",
       "      <td>1,89,399</td>\n",
       "    </tr>\n",
       "    <tr>\n",
       "      <th>12</th>\n",
       "      <td>12</td>\n",
       "      <td>Petrol</td>\n",
       "      <td>34,364 km</td>\n",
       "      <td>NaN</td>\n",
       "      <td>NaN</td>\n",
       "      <td>DL-4C</td>\n",
       "      <td>Volkswagen Polo HIGHLINE1.2L</td>\n",
       "      <td>2012</td>\n",
       "      <td>Volkswagen</td>\n",
       "      <td>4,02,499</td>\n",
       "    </tr>\n",
       "    <tr>\n",
       "      <th>13</th>\n",
       "      <td>13</td>\n",
       "      <td>Petrol</td>\n",
       "      <td>20,039 km</td>\n",
       "      <td>NaN</td>\n",
       "      <td>NaN</td>\n",
       "      <td>DL-1C</td>\n",
       "      <td>Tata Nano TWIST</td>\n",
       "      <td>2016</td>\n",
       "      <td>Tata</td>\n",
       "      <td>2,10,599</td>\n",
       "    </tr>\n",
       "    <tr>\n",
       "      <th>14</th>\n",
       "      <td>14</td>\n",
       "      <td>Petrol</td>\n",
       "      <td>7,610 km</td>\n",
       "      <td>NaN</td>\n",
       "      <td>NaN</td>\n",
       "      <td>HR-26</td>\n",
       "      <td>Maruti Alto LXI</td>\n",
       "      <td>2020</td>\n",
       "      <td>Maruti</td>\n",
       "      <td>3,75,099</td>\n",
       "    </tr>\n",
       "    <tr>\n",
       "      <th>15</th>\n",
       "      <td>15</td>\n",
       "      <td>Petrol</td>\n",
       "      <td>13,899 km</td>\n",
       "      <td>1st Owner</td>\n",
       "      <td>NaN</td>\n",
       "      <td>DL-2C</td>\n",
       "      <td>Hyundai Grand i10</td>\n",
       "      <td>2018</td>\n",
       "      <td>Hyundai</td>\n",
       "      <td>4,59,899</td>\n",
       "    </tr>\n",
       "    <tr>\n",
       "      <th>16</th>\n",
       "      <td>16</td>\n",
       "      <td>Petrol</td>\n",
       "      <td>33,175 km</td>\n",
       "      <td>1st Owner</td>\n",
       "      <td>NaN</td>\n",
       "      <td>DL-7C</td>\n",
       "      <td>Maruti Alto K10</td>\n",
       "      <td>2012</td>\n",
       "      <td>Maruti</td>\n",
       "      <td>2,35,799</td>\n",
       "    </tr>\n",
       "    <tr>\n",
       "      <th>17</th>\n",
       "      <td>17</td>\n",
       "      <td>Petrol</td>\n",
       "      <td>5,645 km</td>\n",
       "      <td>1st Owner</td>\n",
       "      <td>NaN</td>\n",
       "      <td>HR-98</td>\n",
       "      <td>Maruti Baleno SIGMA</td>\n",
       "      <td>2020</td>\n",
       "      <td>Maruti</td>\n",
       "      <td>5,80,999</td>\n",
       "    </tr>\n",
       "    <tr>\n",
       "      <th>18</th>\n",
       "      <td>18</td>\n",
       "      <td>Petrol</td>\n",
       "      <td>12,139 km</td>\n",
       "      <td>1st Owner</td>\n",
       "      <td>NaN</td>\n",
       "      <td>DL-2C</td>\n",
       "      <td>Maruti Alto K10</td>\n",
       "      <td>2017</td>\n",
       "      <td>Maruti</td>\n",
       "      <td>3,53,599</td>\n",
       "    </tr>\n",
       "    <tr>\n",
       "      <th>19</th>\n",
       "      <td>19</td>\n",
       "      <td>Petrol</td>\n",
       "      <td>10,608 km</td>\n",
       "      <td>1st Owner</td>\n",
       "      <td>NaN</td>\n",
       "      <td>DL-12</td>\n",
       "      <td>Maruti Alto 800</td>\n",
       "      <td>2017</td>\n",
       "      <td>Maruti</td>\n",
       "      <td>3,19,199</td>\n",
       "    </tr>\n",
       "  </tbody>\n",
       "</table>\n",
       "</div>"
      ],
      "text/plain": [
       "    Unnamed: 0    Fuel Driven_kilometers Num_of_owners Transmission Location  \\\n",
       "0            0  Petrol             23 km     1st Owner          NaN    DL-4C   \n",
       "1            1  Petrol         12,535 km     1st Owner       MANUAL    DL-12   \n",
       "2            2  Petrol          2,589 km     1st Owner          NaN    UP-32   \n",
       "3            3  Petrol         40,184 km     1st Owner       MANUAL    DL-8C   \n",
       "4            4  Petrol          9,217 km     1st Owner       MANUAL    DL-8C   \n",
       "5            5  Petrol         31,999 km     1st Owner       MANUAL    DL-1C   \n",
       "6            6  Petrol         19,415 km           NaN          NaN    DL-13   \n",
       "7            7  Petrol         22,836 km           NaN          NaN    UP-16   \n",
       "8            8  Petrol         11,691 km           NaN          NaN    DL-12   \n",
       "9            9  Petrol         24,353 km     1st Owner       MANUAL    DL-4C   \n",
       "10          10  Petrol         12,749 km           NaN          NaN    HR-51   \n",
       "11          11  Petrol         39,300 km           NaN          NaN    DL-4C   \n",
       "12          12  Petrol         34,364 km           NaN          NaN    DL-4C   \n",
       "13          13  Petrol         20,039 km           NaN          NaN    DL-1C   \n",
       "14          14  Petrol          7,610 km           NaN          NaN    HR-26   \n",
       "15          15  Petrol         13,899 km     1st Owner          NaN    DL-2C   \n",
       "16          16  Petrol         33,175 km     1st Owner          NaN    DL-7C   \n",
       "17          17  Petrol          5,645 km     1st Owner          NaN    HR-98   \n",
       "18          18  Petrol         12,139 km     1st Owner          NaN    DL-2C   \n",
       "19          19  Petrol         10,608 km     1st Owner          NaN    DL-12   \n",
       "\n",
       "                            Name  Year     Company    Price1  \n",
       "0                  Maruti OMNI E  2014      Maruti  2,00,199  \n",
       "1                Maruti Alto 800  2014      Maruti  3,21,599  \n",
       "2                Hyundai VENUE S  2021     Hyundai  8,08,699  \n",
       "3                Maruti Alto K10  2013      Maruti  2,42,299  \n",
       "4                Maruti Alto 800  2015      Maruti  2,76,199  \n",
       "5               Maruti Swift LXI  2012      Maruti  3,22,399  \n",
       "6                 Honda Brio 1.2  2012       Honda  2,83,799  \n",
       "7              Hyundai Grand i10  2014     Hyundai  4,11,999  \n",
       "8                Maruti Alto K10  2017      Maruti  3,81,599  \n",
       "9                Maruti Alto K10  2011      Maruti  2,34,999  \n",
       "10             Hyundai Eon MAGNA  2015     Hyundai  3,22,599  \n",
       "11             Maruti Zen Estilo  2011      Maruti  1,89,399  \n",
       "12  Volkswagen Polo HIGHLINE1.2L  2012  Volkswagen  4,02,499  \n",
       "13               Tata Nano TWIST  2016        Tata  2,10,599  \n",
       "14               Maruti Alto LXI  2020      Maruti  3,75,099  \n",
       "15             Hyundai Grand i10  2018     Hyundai  4,59,899  \n",
       "16               Maruti Alto K10  2012      Maruti  2,35,799  \n",
       "17           Maruti Baleno SIGMA  2020      Maruti  5,80,999  \n",
       "18               Maruti Alto K10  2017      Maruti  3,53,599  \n",
       "19               Maruti Alto 800  2017      Maruti  3,19,199  "
      ]
     },
     "execution_count": 3,
     "metadata": {},
     "output_type": "execute_result"
    }
   ],
   "source": [
    "\n",
    "ds.head(20)"
   ]
  },
  {
   "cell_type": "code",
   "execution_count": 4,
   "metadata": {},
   "outputs": [
    {
     "data": {
      "text/plain": [
       "(6712, 10)"
      ]
     },
     "execution_count": 4,
     "metadata": {},
     "output_type": "execute_result"
    }
   ],
   "source": [
    "#checking shape of the data set\n",
    "ds.shape"
   ]
  },
  {
   "cell_type": "markdown",
   "metadata": {},
   "source": [
    "data set have 6712 rows and 10 columns"
   ]
  },
  {
   "cell_type": "code",
   "execution_count": 5,
   "metadata": {},
   "outputs": [
    {
     "name": "stdout",
     "output_type": "stream",
     "text": [
      "<class 'pandas.core.frame.DataFrame'>\n",
      "RangeIndex: 6712 entries, 0 to 6711\n",
      "Data columns (total 10 columns):\n",
      " #   Column             Non-Null Count  Dtype \n",
      "---  ------             --------------  ----- \n",
      " 0   Unnamed: 0         6712 non-null   int64 \n",
      " 1   Fuel               6607 non-null   object\n",
      " 2   Driven_kilometers  6695 non-null   object\n",
      " 3   Num_of_owners      6101 non-null   object\n",
      " 4   Transmission       6129 non-null   object\n",
      " 5   Location           6684 non-null   object\n",
      " 6   Name               6712 non-null   object\n",
      " 7   Year               6712 non-null   object\n",
      " 8   Company            6712 non-null   object\n",
      " 9   Price1             6692 non-null   object\n",
      "dtypes: int64(1), object(9)\n",
      "memory usage: 524.5+ KB\n"
     ]
    }
   ],
   "source": [
    "  #checking info columns\n",
    "ds.info()"
   ]
  },
  {
   "cell_type": "markdown",
   "metadata": {},
   "source": [
    "Data set have 10 columns and 6712 features of object type.\n",
    "Some columns have missing values.\n"
   ]
  },
  {
   "cell_type": "code",
   "execution_count": 6,
   "metadata": {},
   "outputs": [
    {
     "data": {
      "text/plain": [
       "Unnamed: 0             0\n",
       "Fuel                 105\n",
       "Driven_kilometers     17\n",
       "Num_of_owners        611\n",
       "Transmission         583\n",
       "Location              28\n",
       "Name                   0\n",
       "Year                   0\n",
       "Company                0\n",
       "Price1                20\n",
       "dtype: int64"
      ]
     },
     "execution_count": 6,
     "metadata": {},
     "output_type": "execute_result"
    }
   ],
   "source": [
    "#checking missing values\n",
    "ds.isnull().sum()"
   ]
  },
  {
   "cell_type": "markdown",
   "metadata": {},
   "source": [
    "Data set have missing values.\n",
    "Target variable also has missing values, so there is need to drop that rows which have missing values in price"
   ]
  },
  {
   "cell_type": "code",
   "execution_count": 7,
   "metadata": {},
   "outputs": [
    {
     "data": {
      "text/plain": [
       "<AxesSubplot:>"
      ]
     },
     "execution_count": 7,
     "metadata": {},
     "output_type": "execute_result"
    },
    {
     "data": {
      "image/png": "[encoded data removed]",
      "text/plain": [
       "<Figure size 432x288 with 2 Axes>"
      ]
     },
     "metadata": {
      "needs_background": "light"
     },
     "output_type": "display_data"
    }
   ],
   "source": [
    "#heatmap also shows that there are missing value\n",
    "sns.heatmap(ds.isnull())"
   ]
  },
  {
   "cell_type": "code",
   "execution_count": 8,
   "metadata": {},
   "outputs": [],
   "source": [
    "#creating dataframe \n",
    "df=pd.DataFrame(ds)"
   ]
  },
  {
   "cell_type": "code",
   "execution_count": 9,
   "metadata": {},
   "outputs": [
    {
     "data": {
      "text/html": [
       "<div>\n",
       "<style scoped>\n",
       "    .dataframe tbody tr th:only-of-type {\n",
       "        vertical-align: middle;\n",
       "    }\n",
       "\n",
       "    .dataframe tbody tr th {\n",
       "        vertical-align: top;\n",
       "    }\n",
       "\n",
       "    .dataframe thead th {\n",
       "        text-align: right;\n",
       "    }\n",
       "</style>\n",
       "<table border=\"1\" class=\"dataframe\">\n",
       "  <thead>\n",
       "    <tr style=\"text-align: right;\">\n",
       "      <th></th>\n",
       "      <th>Unnamed: 0</th>\n",
       "      <th>Fuel</th>\n",
       "      <th>Driven_kilometers</th>\n",
       "      <th>Num_of_owners</th>\n",
       "      <th>Transmission</th>\n",
       "      <th>Location</th>\n",
       "      <th>Name</th>\n",
       "      <th>Year</th>\n",
       "      <th>Company</th>\n",
       "      <th>Price1</th>\n",
       "    </tr>\n",
       "  </thead>\n",
       "  <tbody>\n",
       "    <tr>\n",
       "      <th>0</th>\n",
       "      <td>0</td>\n",
       "      <td>Petrol</td>\n",
       "      <td>23 km</td>\n",
       "      <td>1st Owner</td>\n",
       "      <td>NaN</td>\n",
       "      <td>DL-4C</td>\n",
       "      <td>Maruti OMNI E</td>\n",
       "      <td>2014</td>\n",
       "      <td>Maruti</td>\n",
       "      <td>2,00,199</td>\n",
       "    </tr>\n",
       "    <tr>\n",
       "      <th>1</th>\n",
       "      <td>1</td>\n",
       "      <td>Petrol</td>\n",
       "      <td>12,535 km</td>\n",
       "      <td>1st Owner</td>\n",
       "      <td>MANUAL</td>\n",
       "      <td>DL-12</td>\n",
       "      <td>Maruti Alto 800</td>\n",
       "      <td>2014</td>\n",
       "      <td>Maruti</td>\n",
       "      <td>3,21,599</td>\n",
       "    </tr>\n",
       "    <tr>\n",
       "      <th>2</th>\n",
       "      <td>2</td>\n",
       "      <td>Petrol</td>\n",
       "      <td>2,589 km</td>\n",
       "      <td>1st Owner</td>\n",
       "      <td>NaN</td>\n",
       "      <td>UP-32</td>\n",
       "      <td>Hyundai VENUE S</td>\n",
       "      <td>2021</td>\n",
       "      <td>Hyundai</td>\n",
       "      <td>8,08,699</td>\n",
       "    </tr>\n",
       "    <tr>\n",
       "      <th>3</th>\n",
       "      <td>3</td>\n",
       "      <td>Petrol</td>\n",
       "      <td>40,184 km</td>\n",
       "      <td>1st Owner</td>\n",
       "      <td>MANUAL</td>\n",
       "      <td>DL-8C</td>\n",
       "      <td>Maruti Alto K10</td>\n",
       "      <td>2013</td>\n",
       "      <td>Maruti</td>\n",
       "      <td>2,42,299</td>\n",
       "    </tr>\n",
       "    <tr>\n",
       "      <th>4</th>\n",
       "      <td>4</td>\n",
       "      <td>Petrol</td>\n",
       "      <td>9,217 km</td>\n",
       "      <td>1st Owner</td>\n",
       "      <td>MANUAL</td>\n",
       "      <td>DL-8C</td>\n",
       "      <td>Maruti Alto 800</td>\n",
       "      <td>2015</td>\n",
       "      <td>Maruti</td>\n",
       "      <td>2,76,199</td>\n",
       "    </tr>\n",
       "  </tbody>\n",
       "</table>\n",
       "</div>"
      ],
      "text/plain": [
       "   Unnamed: 0    Fuel Driven_kilometers Num_of_owners Transmission Location  \\\n",
       "0           0  Petrol             23 km     1st Owner          NaN    DL-4C   \n",
       "1           1  Petrol         12,535 km     1st Owner       MANUAL    DL-12   \n",
       "2           2  Petrol          2,589 km     1st Owner          NaN    UP-32   \n",
       "3           3  Petrol         40,184 km     1st Owner       MANUAL    DL-8C   \n",
       "4           4  Petrol          9,217 km     1st Owner       MANUAL    DL-8C   \n",
       "\n",
       "              Name  Year  Company    Price1  \n",
       "0    Maruti OMNI E  2014   Maruti  2,00,199  \n",
       "1  Maruti Alto 800  2014   Maruti  3,21,599  \n",
       "2  Hyundai VENUE S  2021  Hyundai  8,08,699  \n",
       "3  Maruti Alto K10  2013   Maruti  2,42,299  \n",
       "4  Maruti Alto 800  2015   Maruti  2,76,199  "
      ]
     },
     "execution_count": 9,
     "metadata": {},
     "output_type": "execute_result"
    }
   ],
   "source": [
    "#select only those rows which don't have missing values in target variable i.e price\n",
    "df=df[df['Price1'].notna()]\n",
    "df.head()"
   ]
  },
  {
   "cell_type": "code",
   "execution_count": 10,
   "metadata": {},
   "outputs": [
    {
     "data": {
      "text/plain": [
       "(6692, 10)"
      ]
     },
     "execution_count": 10,
     "metadata": {},
     "output_type": "execute_result"
    }
   ],
   "source": [
    "#again check shape of data set\n",
    "df.shape"
   ]
  },
  {
   "cell_type": "markdown",
   "metadata": {},
   "source": [
    "Now data set have  6692rows and 10 columns"
   ]
  },
  {
   "cell_type": "code",
   "execution_count": 11,
   "metadata": {},
   "outputs": [
    {
     "data": {
      "text/plain": [
       "Unnamed: 0             0\n",
       "Fuel                  86\n",
       "Driven_kilometers      1\n",
       "Num_of_owners        591\n",
       "Transmission         563\n",
       "Location               8\n",
       "Name                   0\n",
       "Year                   0\n",
       "Company                0\n",
       "Price1                 0\n",
       "dtype: int64"
      ]
     },
     "execution_count": 11,
     "metadata": {},
     "output_type": "execute_result"
    }
   ],
   "source": [
    "#now price column don't have missing values\n",
    "df.isnull().sum()"
   ]
  },
  {
   "cell_type": "code",
   "execution_count": 12,
   "metadata": {},
   "outputs": [
    {
     "data": {
      "text/plain": [
       "<AxesSubplot:>"
      ]
     },
     "execution_count": 12,
     "metadata": {},
     "output_type": "execute_result"
    },
    {
     "data": {
      "image/png": "[encoded data removed]",
      "text/plain": [
       "<Figure size 432x288 with 2 Axes>"
      ]
     },
     "metadata": {
      "needs_background": "light"
     },
     "output_type": "display_data"
    }
   ],
   "source": [
    "sns.heatmap(df.isnull())"
   ]
  },
  {
   "cell_type": "markdown",
   "metadata": {},
   "source": [
    "# Visualazation"
   ]
  },
  {
   "cell_type": "code",
   "execution_count": 13,
   "metadata": {},
   "outputs": [
    {
     "data": {
      "text/plain": [
       "Maruti           2540\n",
       "Hyundai          1200\n",
       "Toyota            475\n",
       "Honda             430\n",
       "Mahindra          401\n",
       "Ford              295\n",
       "Tata              255\n",
       "Renault           187\n",
       "Volkswagen        171\n",
       "Chevrolet         127\n",
       "Skoda              93\n",
       "Mercedes-Benz      79\n",
       "Audi               73\n",
       "Bmw                59\n",
       "Nissan             53\n",
       "Datsun             33\n",
       "Other              22\n",
       "Jeep               20\n",
       "Fiat               18\n",
       "Bajaj              16\n",
       "Land               15\n",
       "Force              14\n",
       "Mercedes           13\n",
       "Kia                12\n",
       "Mitsubishi         12\n",
       "Jaguar             10\n",
       "Volvo               9\n",
       "Mg                  9\n",
       "Porsche             8\n",
       "Mini                8\n",
       "KIA                 7\n",
       "BMW                 7\n",
       "Ashok               4\n",
       "Ambassador          4\n",
       "MG                  3\n",
       "Lamborghini         2\n",
       "Isuzu               2\n",
       "Ssangyong           2\n",
       "Dc                  1\n",
       "HYUNDAI             1\n",
       "ISUZU               1\n",
       "Eicher              1\n",
       "Name: Company, dtype: int64"
      ]
     },
     "execution_count": 13,
     "metadata": {},
     "output_type": "execute_result"
    }
   ],
   "source": [
    "#Comany column\n",
    "df['Company'].value_counts()"
   ]
  },
  {
   "cell_type": "markdown",
   "metadata": {},
   "source": [
    "above counting shows that comapny  column have different values"
   ]
  },
  {
   "cell_type": "code",
   "execution_count": 14,
   "metadata": {},
   "outputs": [
    {
     "data": {
      "text/plain": [
       "Maruti Suzuki          1364\n",
       "Maruti Swift Dzire      154\n",
       "Maruti Swift VDI        145\n",
       "Toyota Innova           134\n",
       "Honda City              116\n",
       "                       ... \n",
       "Skoda Yeti AMBITION       1\n",
       "Audi A4 35                1\n",
       "Jeep Others               1\n",
       "Renault TRIBER RXZ        1\n",
       "Nissan MAGNITE XV         1\n",
       "Name: Name, Length: 507, dtype: int64"
      ]
     },
     "execution_count": 14,
     "metadata": {},
     "output_type": "execute_result"
    }
   ],
   "source": [
    "df['Name'].value_counts()"
   ]
  },
  {
   "cell_type": "markdown",
   "metadata": {},
   "source": [
    "above counting of name column shows different model_names of the car"
   ]
  },
  {
   "cell_type": "code",
   "execution_count": 15,
   "metadata": {},
   "outputs": [
    {
     "name": "stdout",
     "output_type": "stream",
     "text": [
      "DIESEL           2102\n",
      "PETROL           1863\n",
      "Petrol           1309\n",
      "Diesel           1076\n",
      "CNG & HYBRIDS     119\n",
      "Petrol + CNG       75\n",
      "LPG                31\n",
      "CNG                26\n",
      "ELECTRIC            5\n",
      "Name: Fuel, dtype: int64\n"
     ]
    },
    {
     "data": {
      "text/plain": [
       "<AxesSubplot:xlabel='Fuel', ylabel='count'>"
      ]
     },
     "execution_count": 15,
     "metadata": {},
     "output_type": "execute_result"
    },
    {
     "data": {
      "image/png": "[encoded data removed]",
      "text/plain": [
       "<Figure size 1080x720 with 1 Axes>"
      ]
     },
     "metadata": {
      "needs_background": "light"
     },
     "output_type": "display_data"
    }
   ],
   "source": [
    "print(df['Fuel'].value_counts())\n",
    "plt.figure(figsize=(15,10))\n",
    "sns.countplot(df['Fuel'])"
   ]
  },
  {
   "cell_type": "markdown",
   "metadata": {},
   "source": [
    "Aove countplot of fuel shows different values of fuel and their counting."
   ]
  },
  {
   "cell_type": "code",
   "execution_count": 16,
   "metadata": {},
   "outputs": [
    {
     "name": "stdout",
     "output_type": "stream",
     "text": [
      "1st          2317\n",
      "1st Owner    1663\n",
      "2nd          1083\n",
      "2nd Owner     368\n",
      "3rd           262\n",
      "First         158\n",
      "Second         75\n",
      "3rd Owner      53\n",
      "4th            52\n",
      "Third          31\n",
      "4+             28\n",
      "4th Owner       6\n",
      "Fourth          5\n",
      "Name: Num_of_owners, dtype: int64\n"
     ]
    },
    {
     "data": {
      "text/plain": [
       "<AxesSubplot:xlabel='Num_of_owners', ylabel='count'>"
      ]
     },
     "execution_count": 16,
     "metadata": {},
     "output_type": "execute_result"
    },
    {
     "data": {
      "image/png": "[encoded data removed]",
      "text/plain": [
       "<Figure size 1080x720 with 1 Axes>"
      ]
     },
     "metadata": {
      "needs_background": "light"
     },
     "output_type": "display_data"
    }
   ],
   "source": [
    "print(df['Num_of_owners'].value_counts())\n",
    "plt.figure(figsize=(15,10))\n",
    "sns.countplot(df['Num_of_owners'])"
   ]
  },
  {
   "cell_type": "markdown",
   "metadata": {},
   "source": [
    "Above countplot shows different values of num_of_owners column"
   ]
  },
  {
   "cell_type": "code",
   "execution_count": 17,
   "metadata": {},
   "outputs": [
    {
     "data": {
      "text/plain": [
       "90,000 KM     51\n",
       "100,000 KM    49\n",
       "68000.0 KM    42\n",
       "65000.0 KM    41\n",
       "70000.0 KM    39\n",
       "              ..\n",
       "22,790 km      1\n",
       "30471.0 KM     1\n",
       "23,580 km      1\n",
       "64,833 km      1\n",
       "26,640 km      1\n",
       "Name: Driven_kilometers, Length: 3923, dtype: int64"
      ]
     },
     "execution_count": 17,
     "metadata": {},
     "output_type": "execute_result"
    }
   ],
   "source": [
    "df['Driven_kilometers'].value_counts()"
   ]
  },
  {
   "cell_type": "code",
   "execution_count": 18,
   "metadata": {},
   "outputs": [
    {
     "name": "stdout",
     "output_type": "stream",
     "text": [
      "MANUAL       5184\n",
      "AUTOMATIC     945\n",
      "Name: Transmission, dtype: int64\n"
     ]
    },
    {
     "data": {
      "text/plain": [
       "<AxesSubplot:xlabel='Transmission', ylabel='count'>"
      ]
     },
     "execution_count": 18,
     "metadata": {},
     "output_type": "execute_result"
    },
    {
     "data": {
      "image/png": "[encoded data removed]",
      "text/plain": [
       "<Figure size 720x360 with 1 Axes>"
      ]
     },
     "metadata": {
      "needs_background": "light"
     },
     "output_type": "display_data"
    }
   ],
   "source": [
    "print(df['Transmission'].value_counts())\n",
    "plt.figure(figsize=(10,5))\n",
    "sns.countplot(df['Transmission'])"
   ]
  },
  {
   "cell_type": "markdown",
   "metadata": {},
   "source": [
    "Above countplot shows that how many cars have manual transmission or automatic transmission"
   ]
  },
  {
   "cell_type": "code",
   "execution_count": 19,
   "metadata": {},
   "outputs": [
    {
     "data": {
      "text/plain": [
       "DL-8C                        279\n",
       "HR-26                        227\n",
       "DL-3C                        210\n",
       "DL-9C                        162\n",
       "DL-2C                        132\n",
       "                            ... \n",
       "Swargate, Pune                 1\n",
       "Choori, Kasaragod              1\n",
       "Kukshi                         1\n",
       "Devi Mandir Area, Panipat      1\n",
       "Chakkanthara, Palakkad         1\n",
       "Name: Location, Length: 1970, dtype: int64"
      ]
     },
     "execution_count": 19,
     "metadata": {},
     "output_type": "execute_result"
    }
   ],
   "source": [
    "#location of car\n",
    "df['Location'].value_counts()"
   ]
  },
  {
   "cell_type": "code",
   "execution_count": 20,
   "metadata": {},
   "outputs": [
    {
     "data": {
      "text/plain": [
       "2016)      431\n",
       "2012)      379\n",
       "2017)      356\n",
       "2015)      348\n",
       "2013)      344\n",
       "2014)      343\n",
       "2018)      341\n",
       "2015       324\n",
       "2013       308\n",
       "2011)      304\n",
       "2014       297\n",
       "2017       277\n",
       "2018       251\n",
       "2016       248\n",
       "2019)      235\n",
       "2010)      234\n",
       "2012       230\n",
       "2009)      172\n",
       "2008)      158\n",
       "2019       158\n",
       "2007)      125\n",
       "2020        96\n",
       "2020)       95\n",
       "2010        94\n",
       "2006)       88\n",
       "2011        87\n",
       "2021)       57\n",
       "2009        51\n",
       "2005)       43\n",
       "2004)       34\n",
       "2003)       31\n",
       "2008        24\n",
       "2001)       22\n",
       "2002)       22\n",
       "2000)       17\n",
       "1999)       10\n",
       "2021         9\n",
       "1995)        7\n",
       "1997)        7\n",
       "1998)        7\n",
       "2007         6\n",
       "1996)        4\n",
       "1987)        3\n",
       "1989)        2\n",
       "2014.0)      2\n",
       "1994)        2\n",
       "1990)        1\n",
       "2012.0)      1\n",
       "1982)        1\n",
       "1966)        1\n",
       "1984)        1\n",
       "2020.0)      1\n",
       "1958)        1\n",
       "2013.0)      1\n",
       "1991)        1\n",
       "Name: Year, dtype: int64"
      ]
     },
     "execution_count": 20,
     "metadata": {},
     "output_type": "execute_result"
    }
   ],
   "source": [
    "#year column gives info about when car is purchased\n",
    "df['Year'].value_counts()"
   ]
  },
  {
   "cell_type": "code",
   "execution_count": 21,
   "metadata": {},
   "outputs": [
    {
     "data": {
      "text/plain": [
       " 4,50,000    68\n",
       " 2,50,000    57\n",
       " 6,50,000    55\n",
       " 1,50,000    47\n",
       " 3,25,000    45\n",
       "             ..\n",
       "7,61,399      1\n",
       "4,03,000      1\n",
       "4,78,699      1\n",
       "8,86,499      1\n",
       "5,23,699      1\n",
       "Name: Price1, Length: 2706, dtype: int64"
      ]
     },
     "execution_count": 21,
     "metadata": {},
     "output_type": "execute_result"
    }
   ],
   "source": [
    "df['Price1'].value_counts()"
   ]
  },
  {
   "cell_type": "markdown",
   "metadata": {},
   "source": [
    "# Preprocessing on data"
   ]
  },
  {
   "cell_type": "code",
   "execution_count": null,
   "metadata": {},
   "outputs": [],
   "source": []
  },
  {
   "cell_type": "code",
   "execution_count": 22,
   "metadata": {},
   "outputs": [
    {
     "data": {
      "text/plain": [
       "0        200199\n",
       "1        321599\n",
       "2        808699\n",
       "3        242299\n",
       "4        276199\n",
       "         ...   \n",
       "6707    4500000\n",
       "6708     899000\n",
       "6709     190000\n",
       "6710    1799000\n",
       "6711    1850000\n",
       "Name: Price1, Length: 6692, dtype: int32"
      ]
     },
     "execution_count": 22,
     "metadata": {},
     "output_type": "execute_result"
    }
   ],
   "source": [
    "df['Price1']=df['Price1'].str.replace(\",\",'')\n",
    "df['Price1']=df['Price1'].astype(int)\n",
    "df['Price1']"
   ]
  },
  {
   "cell_type": "markdown",
   "metadata": {},
   "source": [
    "as the price values should be numeric type but in data set it is of object type, so we need to convert it into numeric form.\n",
    "First replace comma(,) by bank space  and then convert it into numeric format(int)"
   ]
  },
  {
   "cell_type": "code",
   "execution_count": 23,
   "metadata": {},
   "outputs": [
    {
     "data": {
      "text/plain": [
       "0          23\n",
       "1       12535\n",
       "2        2589\n",
       "3       40184\n",
       "4        9217\n",
       "        ...  \n",
       "6707    30000\n",
       "6708    61000\n",
       "6709    79000\n",
       "6710    28000\n",
       "6711    35000\n",
       "Name: Driven_kilometers, Length: 6692, dtype: int32"
      ]
     },
     "execution_count": 23,
     "metadata": {},
     "output_type": "execute_result"
    }
   ],
   "source": [
    "df['Driven_kilometers']=df['Driven_kilometers'].str.split(\" \").str.get(0).str.replace(\",\",'')\n",
    "df['Driven_kilometers']=df['Driven_kilometers'].str.split(\".\").str.get(0)\n",
    "df['Driven_kilometers']=df['Driven_kilometers'].fillna(0)\n",
    "df['Driven_kilometers']=df['Driven_kilometers'].astype(int)\n",
    "df['Driven_kilometers']"
   ]
  },
  {
   "cell_type": "markdown",
   "metadata": {},
   "source": [
    "Driven_kilometer column gives info about how many kilometers car has been driven, so it should be in numeric format, so let's change this column to numeric\n",
    "First split values and replace special characters and commas and then convert it into numeric type"
   ]
  },
  {
   "cell_type": "code",
   "execution_count": 24,
   "metadata": {},
   "outputs": [
    {
     "data": {
      "text/plain": [
       "0        7\n",
       "1        7\n",
       "2        0\n",
       "3        8\n",
       "4        6\n",
       "        ..\n",
       "6707     7\n",
       "6708    12\n",
       "6709     9\n",
       "6710     5\n",
       "6711     5\n",
       "Name: Total_years, Length: 6692, dtype: int32"
      ]
     },
     "execution_count": 24,
     "metadata": {},
     "output_type": "execute_result"
    }
   ],
   "source": [
    "df['Year']=df['Year'].str.replace(\")\",'')\n",
    "df['Year']=df['Year'].str.replace(\".\",'')\n",
    "df['Year']=df['Year'].astype(int)\n",
    "df['Total_years']=2021-df['Year']\n",
    "df.drop(\"Year\",axis=1,inplace=True)\n",
    "df['Total_years']"
   ]
  },
  {
   "cell_type": "markdown",
   "metadata": {},
   "source": [
    "In year column, some signs are present so replaced that with blank space and convert it into nueric data.\n",
    "Then create new column Total-years from year column which represent total years of car"
   ]
  },
  {
   "cell_type": "code",
   "execution_count": 25,
   "metadata": {},
   "outputs": [],
   "source": [
    "df['Num_of_owners']=df['Num_of_owners'].replace('1st',1)\n",
    "df['Num_of_owners']=df['Num_of_owners'].replace('1st Owner',1)\n",
    "df['Num_of_owners']=df['Num_of_owners'].replace('First',1)\n",
    "df['Num_of_owners']=df['Num_of_owners'].replace('2nd',2)\n",
    "df['Num_of_owners']=df['Num_of_owners'].replace('2nd Owner',2)\n",
    "df['Num_of_owners']=df['Num_of_owners'].replace('Second',2)\n",
    "df['Num_of_owners']=df['Num_of_owners'].replace('3rd',3)\n",
    "df['Num_of_owners']=df['Num_of_owners'].replace('3rd Owner',3)\n",
    "df['Num_of_owners']=df['Num_of_owners'].replace('Third',3)\n",
    "df['Num_of_owners']=df['Num_of_owners'].replace('4th',4)\n",
    "df['Num_of_owners']=df['Num_of_owners'].replace('4+',5)\n",
    "df['Num_of_owners']=df['Num_of_owners'].replace('4th Owner',4)\n",
    "df['Num_of_owners']=df['Num_of_owners'].replace('Fourth',4)\n"
   ]
  },
  {
   "cell_type": "markdown",
   "metadata": {},
   "source": [
    "NUm_of_owners tells how many peoples used car so convert this column into numeric type.\n",
    "map values  1st,1st Owner,First to 1\n",
    "map values 2nd,2nd Owner,Second, to 2\n",
    "map values  3rd,3rd Owner,Third to 3\n",
    "map values 4th,'4th Owner,Fourth to 4\n",
    "map values 4+ to 5"
   ]
  },
  {
   "cell_type": "code",
   "execution_count": 26,
   "metadata": {},
   "outputs": [],
   "source": [
    "#filling muissing values\n",
    "df['Num_of_owners']=df['Num_of_owners'].fillna(0)"
   ]
  },
  {
   "cell_type": "code",
   "execution_count": 27,
   "metadata": {},
   "outputs": [
    {
     "data": {
      "text/plain": [
       "0       1\n",
       "1       1\n",
       "2       1\n",
       "3       1\n",
       "4       1\n",
       "       ..\n",
       "6707    3\n",
       "6708    2\n",
       "6709    1\n",
       "6710    2\n",
       "6711    1\n",
       "Name: Num_of_owners, Length: 6692, dtype: int32"
      ]
     },
     "execution_count": 27,
     "metadata": {},
     "output_type": "execute_result"
    }
   ],
   "source": [
    "#conevrt num_of_column to int\n",
    "df['Num_of_owners']=df['Num_of_owners'].astype(int)\n",
    "df['Num_of_owners']"
   ]
  },
  {
   "cell_type": "code",
   "execution_count": 28,
   "metadata": {},
   "outputs": [],
   "source": [
    "#filling missing values\n",
    "df['Fuel']=df['Fuel'].fillna(df['Fuel'].mode()[0])\n",
    "df['Transmission']=df['Transmission'].fillna(\"no_info\")\n",
    "df['Location']=df['Location'].fillna(\"no_info\")"
   ]
  },
  {
   "cell_type": "code",
   "execution_count": 29,
   "metadata": {},
   "outputs": [
    {
     "data": {
      "text/plain": [
       "Unnamed: 0           0\n",
       "Fuel                 0\n",
       "Driven_kilometers    0\n",
       "Num_of_owners        0\n",
       "Transmission         0\n",
       "Location             0\n",
       "Name                 0\n",
       "Company              0\n",
       "Price1               0\n",
       "Total_years          0\n",
       "dtype: int64"
      ]
     },
     "execution_count": 29,
     "metadata": {},
     "output_type": "execute_result"
    }
   ],
   "source": [
    "#now data set have no missing values\n",
    "df.isnull().sum()"
   ]
  },
  {
   "cell_type": "code",
   "execution_count": 30,
   "metadata": {},
   "outputs": [
    {
     "data": {
      "text/plain": [
       "<AxesSubplot:>"
      ]
     },
     "execution_count": 30,
     "metadata": {},
     "output_type": "execute_result"
    },
    {
     "data": {
      "image/png": "[encoded data removed]",
      "text/plain": [
       "<Figure size 432x288 with 2 Axes>"
      ]
     },
     "metadata": {
      "needs_background": "light"
     },
     "output_type": "display_data"
    }
   ],
   "source": [
    "sns.heatmap(df.isnull())"
   ]
  },
  {
   "cell_type": "code",
   "execution_count": 31,
   "metadata": {},
   "outputs": [
    {
     "data": {
      "text/html": [
       "<div>\n",
       "<style scoped>\n",
       "    .dataframe tbody tr th:only-of-type {\n",
       "        vertical-align: middle;\n",
       "    }\n",
       "\n",
       "    .dataframe tbody tr th {\n",
       "        vertical-align: top;\n",
       "    }\n",
       "\n",
       "    .dataframe thead th {\n",
       "        text-align: right;\n",
       "    }\n",
       "</style>\n",
       "<table border=\"1\" class=\"dataframe\">\n",
       "  <thead>\n",
       "    <tr style=\"text-align: right;\">\n",
       "      <th></th>\n",
       "      <th>Unnamed: 0</th>\n",
       "      <th>Driven_kilometers</th>\n",
       "      <th>Num_of_owners</th>\n",
       "      <th>Price1</th>\n",
       "      <th>Total_years</th>\n",
       "    </tr>\n",
       "  </thead>\n",
       "  <tbody>\n",
       "    <tr>\n",
       "      <th>count</th>\n",
       "      <td>6692.000000</td>\n",
       "      <td>6692.000000</td>\n",
       "      <td>6692.000000</td>\n",
       "      <td>6.692000e+03</td>\n",
       "      <td>6692.000000</td>\n",
       "    </tr>\n",
       "    <tr>\n",
       "      <th>mean</th>\n",
       "      <td>3352.645846</td>\n",
       "      <td>67782.511955</td>\n",
       "      <td>1.288105</td>\n",
       "      <td>5.884777e+05</td>\n",
       "      <td>-6.377316</td>\n",
       "    </tr>\n",
       "    <tr>\n",
       "      <th>std</th>\n",
       "      <td>1939.191426</td>\n",
       "      <td>58408.572353</td>\n",
       "      <td>0.769363</td>\n",
       "      <td>9.602317e+05</td>\n",
       "      <td>495.499316</td>\n",
       "    </tr>\n",
       "    <tr>\n",
       "      <th>min</th>\n",
       "      <td>0.000000</td>\n",
       "      <td>0.000000</td>\n",
       "      <td>0.000000</td>\n",
       "      <td>1.500000e+04</td>\n",
       "      <td>-18179.000000</td>\n",
       "    </tr>\n",
       "    <tr>\n",
       "      <th>25%</th>\n",
       "      <td>1672.750000</td>\n",
       "      <td>37000.000000</td>\n",
       "      <td>1.000000</td>\n",
       "      <td>2.650000e+05</td>\n",
       "      <td>4.000000</td>\n",
       "    </tr>\n",
       "    <tr>\n",
       "      <th>50%</th>\n",
       "      <td>3349.500000</td>\n",
       "      <td>61866.000000</td>\n",
       "      <td>1.000000</td>\n",
       "      <td>4.097990e+05</td>\n",
       "      <td>7.000000</td>\n",
       "    </tr>\n",
       "    <tr>\n",
       "      <th>75%</th>\n",
       "      <td>5035.250000</td>\n",
       "      <td>86554.250000</td>\n",
       "      <td>2.000000</td>\n",
       "      <td>6.423990e+05</td>\n",
       "      <td>9.000000</td>\n",
       "    </tr>\n",
       "    <tr>\n",
       "      <th>max</th>\n",
       "      <td>6711.000000</td>\n",
       "      <td>999999.000000</td>\n",
       "      <td>5.000000</td>\n",
       "      <td>5.000000e+07</td>\n",
       "      <td>63.000000</td>\n",
       "    </tr>\n",
       "  </tbody>\n",
       "</table>\n",
       "</div>"
      ],
      "text/plain": [
       "        Unnamed: 0  Driven_kilometers  Num_of_owners        Price1  \\\n",
       "count  6692.000000        6692.000000    6692.000000  6.692000e+03   \n",
       "mean   3352.645846       67782.511955       1.288105  5.884777e+05   \n",
       "std    1939.191426       58408.572353       0.769363  9.602317e+05   \n",
       "min       0.000000           0.000000       0.000000  1.500000e+04   \n",
       "25%    1672.750000       37000.000000       1.000000  2.650000e+05   \n",
       "50%    3349.500000       61866.000000       1.000000  4.097990e+05   \n",
       "75%    5035.250000       86554.250000       2.000000  6.423990e+05   \n",
       "max    6711.000000      999999.000000       5.000000  5.000000e+07   \n",
       "\n",
       "        Total_years  \n",
       "count   6692.000000  \n",
       "mean      -6.377316  \n",
       "std      495.499316  \n",
       "min   -18179.000000  \n",
       "25%        4.000000  \n",
       "50%        7.000000  \n",
       "75%        9.000000  \n",
       "max       63.000000  "
      ]
     },
     "execution_count": 31,
     "metadata": {},
     "output_type": "execute_result"
    }
   ],
   "source": [
    "#stastical summary\n",
    "df.describe()"
   ]
  },
  {
   "cell_type": "code",
   "execution_count": 32,
   "metadata": {},
   "outputs": [
    {
     "data": {
      "image/png": "[encoded data removed]",
      "text/plain": [
       "<Figure size 720x360 with 1 Axes>"
      ]
     },
     "metadata": {
      "needs_background": "light"
     },
     "output_type": "display_data"
    },
    {
     "data": {
      "image/png": "[encoded data removed]",
      "text/plain": [
       "<Figure size 720x360 with 1 Axes>"
      ]
     },
     "metadata": {
      "needs_background": "light"
     },
     "output_type": "display_data"
    },
    {
     "data": {
      "image/png": "[encoded data removed]",
      "text/plain": [
       "<Figure size 720x360 with 1 Axes>"
      ]
     },
     "metadata": {
      "needs_background": "light"
     },
     "output_type": "display_data"
    },
    {
     "data": {
      "image/png": "[encoded data removed]",
      "text/plain": [
       "<Figure size 720x360 with 1 Axes>"
      ]
     },
     "metadata": {
      "needs_background": "light"
     },
     "output_type": "display_data"
    }
   ],
   "source": [
    "#displot\n",
    "ncols=['Driven_kilometers','Num_of_owners','Price1','Total_years']\n",
    "for i in df[ncols]:\n",
    "    plt.figure(figsize=(10,5))\n",
    "    sns.distplot(df[i])\n"
   ]
  },
  {
   "cell_type": "code",
   "execution_count": null,
   "metadata": {},
   "outputs": [],
   "source": []
  },
  {
   "cell_type": "markdown",
   "metadata": {},
   "source": [
    "Above distplot shows distribution of data"
   ]
  },
  {
   "cell_type": "markdown",
   "metadata": {},
   "source": [
    "# Encoding"
   ]
  },
  {
   "cell_type": "code",
   "execution_count": 33,
   "metadata": {},
   "outputs": [
    {
     "data": {
      "text/html": [
       "<div>\n",
       "<style scoped>\n",
       "    .dataframe tbody tr th:only-of-type {\n",
       "        vertical-align: middle;\n",
       "    }\n",
       "\n",
       "    .dataframe tbody tr th {\n",
       "        vertical-align: top;\n",
       "    }\n",
       "\n",
       "    .dataframe thead th {\n",
       "        text-align: right;\n",
       "    }\n",
       "</style>\n",
       "<table border=\"1\" class=\"dataframe\">\n",
       "  <thead>\n",
       "    <tr style=\"text-align: right;\">\n",
       "      <th></th>\n",
       "      <th>Fuel_CNG</th>\n",
       "      <th>Fuel_CNG &amp; HYBRIDS</th>\n",
       "      <th>Fuel_DIESEL</th>\n",
       "      <th>Fuel_Diesel</th>\n",
       "      <th>Fuel_ELECTRIC</th>\n",
       "      <th>Fuel_LPG</th>\n",
       "      <th>Fuel_PETROL</th>\n",
       "      <th>Fuel_Petrol</th>\n",
       "      <th>Fuel_Petrol + CNG</th>\n",
       "      <th>Transmission_AUTOMATIC</th>\n",
       "      <th>...</th>\n",
       "      <th>Company_Nissan</th>\n",
       "      <th>Company_Other</th>\n",
       "      <th>Company_Porsche</th>\n",
       "      <th>Company_Renault</th>\n",
       "      <th>Company_Skoda</th>\n",
       "      <th>Company_Ssangyong</th>\n",
       "      <th>Company_Tata</th>\n",
       "      <th>Company_Toyota</th>\n",
       "      <th>Company_Volkswagen</th>\n",
       "      <th>Company_Volvo</th>\n",
       "    </tr>\n",
       "  </thead>\n",
       "  <tbody>\n",
       "    <tr>\n",
       "      <th>0</th>\n",
       "      <td>0</td>\n",
       "      <td>0</td>\n",
       "      <td>0</td>\n",
       "      <td>0</td>\n",
       "      <td>0</td>\n",
       "      <td>0</td>\n",
       "      <td>0</td>\n",
       "      <td>1</td>\n",
       "      <td>0</td>\n",
       "      <td>0</td>\n",
       "      <td>...</td>\n",
       "      <td>0</td>\n",
       "      <td>0</td>\n",
       "      <td>0</td>\n",
       "      <td>0</td>\n",
       "      <td>0</td>\n",
       "      <td>0</td>\n",
       "      <td>0</td>\n",
       "      <td>0</td>\n",
       "      <td>0</td>\n",
       "      <td>0</td>\n",
       "    </tr>\n",
       "    <tr>\n",
       "      <th>1</th>\n",
       "      <td>0</td>\n",
       "      <td>0</td>\n",
       "      <td>0</td>\n",
       "      <td>0</td>\n",
       "      <td>0</td>\n",
       "      <td>0</td>\n",
       "      <td>0</td>\n",
       "      <td>1</td>\n",
       "      <td>0</td>\n",
       "      <td>0</td>\n",
       "      <td>...</td>\n",
       "      <td>0</td>\n",
       "      <td>0</td>\n",
       "      <td>0</td>\n",
       "      <td>0</td>\n",
       "      <td>0</td>\n",
       "      <td>0</td>\n",
       "      <td>0</td>\n",
       "      <td>0</td>\n",
       "      <td>0</td>\n",
       "      <td>0</td>\n",
       "    </tr>\n",
       "    <tr>\n",
       "      <th>2</th>\n",
       "      <td>0</td>\n",
       "      <td>0</td>\n",
       "      <td>0</td>\n",
       "      <td>0</td>\n",
       "      <td>0</td>\n",
       "      <td>0</td>\n",
       "      <td>0</td>\n",
       "      <td>1</td>\n",
       "      <td>0</td>\n",
       "      <td>0</td>\n",
       "      <td>...</td>\n",
       "      <td>0</td>\n",
       "      <td>0</td>\n",
       "      <td>0</td>\n",
       "      <td>0</td>\n",
       "      <td>0</td>\n",
       "      <td>0</td>\n",
       "      <td>0</td>\n",
       "      <td>0</td>\n",
       "      <td>0</td>\n",
       "      <td>0</td>\n",
       "    </tr>\n",
       "    <tr>\n",
       "      <th>3</th>\n",
       "      <td>0</td>\n",
       "      <td>0</td>\n",
       "      <td>0</td>\n",
       "      <td>0</td>\n",
       "      <td>0</td>\n",
       "      <td>0</td>\n",
       "      <td>0</td>\n",
       "      <td>1</td>\n",
       "      <td>0</td>\n",
       "      <td>0</td>\n",
       "      <td>...</td>\n",
       "      <td>0</td>\n",
       "      <td>0</td>\n",
       "      <td>0</td>\n",
       "      <td>0</td>\n",
       "      <td>0</td>\n",
       "      <td>0</td>\n",
       "      <td>0</td>\n",
       "      <td>0</td>\n",
       "      <td>0</td>\n",
       "      <td>0</td>\n",
       "    </tr>\n",
       "    <tr>\n",
       "      <th>4</th>\n",
       "      <td>0</td>\n",
       "      <td>0</td>\n",
       "      <td>0</td>\n",
       "      <td>0</td>\n",
       "      <td>0</td>\n",
       "      <td>0</td>\n",
       "      <td>0</td>\n",
       "      <td>1</td>\n",
       "      <td>0</td>\n",
       "      <td>0</td>\n",
       "      <td>...</td>\n",
       "      <td>0</td>\n",
       "      <td>0</td>\n",
       "      <td>0</td>\n",
       "      <td>0</td>\n",
       "      <td>0</td>\n",
       "      <td>0</td>\n",
       "      <td>0</td>\n",
       "      <td>0</td>\n",
       "      <td>0</td>\n",
       "      <td>0</td>\n",
       "    </tr>\n",
       "  </tbody>\n",
       "</table>\n",
       "<p>5 rows × 54 columns</p>\n",
       "</div>"
      ],
      "text/plain": [
       "   Fuel_CNG  Fuel_CNG & HYBRIDS  Fuel_DIESEL  Fuel_Diesel  Fuel_ELECTRIC  \\\n",
       "0         0                   0            0            0              0   \n",
       "1         0                   0            0            0              0   \n",
       "2         0                   0            0            0              0   \n",
       "3         0                   0            0            0              0   \n",
       "4         0                   0            0            0              0   \n",
       "\n",
       "   Fuel_LPG  Fuel_PETROL  Fuel_Petrol  Fuel_Petrol + CNG  \\\n",
       "0         0            0            1                  0   \n",
       "1         0            0            1                  0   \n",
       "2         0            0            1                  0   \n",
       "3         0            0            1                  0   \n",
       "4         0            0            1                  0   \n",
       "\n",
       "   Transmission_AUTOMATIC  ...  Company_Nissan  Company_Other  \\\n",
       "0                       0  ...               0              0   \n",
       "1                       0  ...               0              0   \n",
       "2                       0  ...               0              0   \n",
       "3                       0  ...               0              0   \n",
       "4                       0  ...               0              0   \n",
       "\n",
       "   Company_Porsche  Company_Renault  Company_Skoda  Company_Ssangyong  \\\n",
       "0                0                0              0                  0   \n",
       "1                0                0              0                  0   \n",
       "2                0                0              0                  0   \n",
       "3                0                0              0                  0   \n",
       "4                0                0              0                  0   \n",
       "\n",
       "   Company_Tata  Company_Toyota  Company_Volkswagen  Company_Volvo  \n",
       "0             0               0                   0              0  \n",
       "1             0               0                   0              0  \n",
       "2             0               0                   0              0  \n",
       "3             0               0                   0              0  \n",
       "4             0               0                   0              0  \n",
       "\n",
       "[5 rows x 54 columns]"
      ]
     },
     "execution_count": 33,
     "metadata": {},
     "output_type": "execute_result"
    }
   ],
   "source": [
    "#encoding some column using get_dummies method of one hot encoder\n",
    "dummies=pd.get_dummies(df[['Fuel','Transmission','Company']])\n",
    "dummies.head()"
   ]
  },
  {
   "cell_type": "code",
   "execution_count": null,
   "metadata": {},
   "outputs": [],
   "source": []
  },
  {
   "cell_type": "code",
   "execution_count": 34,
   "metadata": {},
   "outputs": [],
   "source": [
    "#name column is encoded using label encoder\n",
    "le=LabelEncoder()\n",
    "\n",
    "df['Name']=le.fit_transform(df['Name'])"
   ]
  },
  {
   "cell_type": "code",
   "execution_count": 35,
   "metadata": {},
   "outputs": [],
   "source": [
    "#dropped columns and concat dummies column into data set\n",
    "df.drop(['Fuel','Transmission','Company'],axis=1,inplace=True)"
   ]
  },
  {
   "cell_type": "code",
   "execution_count": 36,
   "metadata": {},
   "outputs": [],
   "source": [
    "df2=pd.concat([df,dummies],axis=1)"
   ]
  },
  {
   "cell_type": "code",
   "execution_count": 37,
   "metadata": {},
   "outputs": [
    {
     "data": {
      "text/html": [
       "<div>\n",
       "<style scoped>\n",
       "    .dataframe tbody tr th:only-of-type {\n",
       "        vertical-align: middle;\n",
       "    }\n",
       "\n",
       "    .dataframe tbody tr th {\n",
       "        vertical-align: top;\n",
       "    }\n",
       "\n",
       "    .dataframe thead th {\n",
       "        text-align: right;\n",
       "    }\n",
       "</style>\n",
       "<table border=\"1\" class=\"dataframe\">\n",
       "  <thead>\n",
       "    <tr style=\"text-align: right;\">\n",
       "      <th></th>\n",
       "      <th>Unnamed: 0</th>\n",
       "      <th>Driven_kilometers</th>\n",
       "      <th>Num_of_owners</th>\n",
       "      <th>Location</th>\n",
       "      <th>Name</th>\n",
       "      <th>Price1</th>\n",
       "      <th>Total_years</th>\n",
       "      <th>Fuel_CNG</th>\n",
       "      <th>Fuel_CNG &amp; HYBRIDS</th>\n",
       "      <th>Fuel_DIESEL</th>\n",
       "      <th>...</th>\n",
       "      <th>Company_Nissan</th>\n",
       "      <th>Company_Other</th>\n",
       "      <th>Company_Porsche</th>\n",
       "      <th>Company_Renault</th>\n",
       "      <th>Company_Skoda</th>\n",
       "      <th>Company_Ssangyong</th>\n",
       "      <th>Company_Tata</th>\n",
       "      <th>Company_Toyota</th>\n",
       "      <th>Company_Volkswagen</th>\n",
       "      <th>Company_Volvo</th>\n",
       "    </tr>\n",
       "  </thead>\n",
       "  <tbody>\n",
       "    <tr>\n",
       "      <th>0</th>\n",
       "      <td>0</td>\n",
       "      <td>23</td>\n",
       "      <td>1</td>\n",
       "      <td>DL-4C</td>\n",
       "      <td>301</td>\n",
       "      <td>200199</td>\n",
       "      <td>7</td>\n",
       "      <td>0</td>\n",
       "      <td>0</td>\n",
       "      <td>0</td>\n",
       "      <td>...</td>\n",
       "      <td>0</td>\n",
       "      <td>0</td>\n",
       "      <td>0</td>\n",
       "      <td>0</td>\n",
       "      <td>0</td>\n",
       "      <td>0</td>\n",
       "      <td>0</td>\n",
       "      <td>0</td>\n",
       "      <td>0</td>\n",
       "      <td>0</td>\n",
       "    </tr>\n",
       "    <tr>\n",
       "      <th>1</th>\n",
       "      <td>1</td>\n",
       "      <td>12535</td>\n",
       "      <td>1</td>\n",
       "      <td>DL-12</td>\n",
       "      <td>259</td>\n",
       "      <td>321599</td>\n",
       "      <td>7</td>\n",
       "      <td>0</td>\n",
       "      <td>0</td>\n",
       "      <td>0</td>\n",
       "      <td>...</td>\n",
       "      <td>0</td>\n",
       "      <td>0</td>\n",
       "      <td>0</td>\n",
       "      <td>0</td>\n",
       "      <td>0</td>\n",
       "      <td>0</td>\n",
       "      <td>0</td>\n",
       "      <td>0</td>\n",
       "      <td>0</td>\n",
       "      <td>0</td>\n",
       "    </tr>\n",
       "    <tr>\n",
       "      <th>2</th>\n",
       "      <td>2</td>\n",
       "      <td>2589</td>\n",
       "      <td>1</td>\n",
       "      <td>UP-32</td>\n",
       "      <td>160</td>\n",
       "      <td>808699</td>\n",
       "      <td>0</td>\n",
       "      <td>0</td>\n",
       "      <td>0</td>\n",
       "      <td>0</td>\n",
       "      <td>...</td>\n",
       "      <td>0</td>\n",
       "      <td>0</td>\n",
       "      <td>0</td>\n",
       "      <td>0</td>\n",
       "      <td>0</td>\n",
       "      <td>0</td>\n",
       "      <td>0</td>\n",
       "      <td>0</td>\n",
       "      <td>0</td>\n",
       "      <td>0</td>\n",
       "    </tr>\n",
       "    <tr>\n",
       "      <th>3</th>\n",
       "      <td>3</td>\n",
       "      <td>40184</td>\n",
       "      <td>1</td>\n",
       "      <td>DL-8C</td>\n",
       "      <td>260</td>\n",
       "      <td>242299</td>\n",
       "      <td>8</td>\n",
       "      <td>0</td>\n",
       "      <td>0</td>\n",
       "      <td>0</td>\n",
       "      <td>...</td>\n",
       "      <td>0</td>\n",
       "      <td>0</td>\n",
       "      <td>0</td>\n",
       "      <td>0</td>\n",
       "      <td>0</td>\n",
       "      <td>0</td>\n",
       "      <td>0</td>\n",
       "      <td>0</td>\n",
       "      <td>0</td>\n",
       "      <td>0</td>\n",
       "    </tr>\n",
       "    <tr>\n",
       "      <th>4</th>\n",
       "      <td>4</td>\n",
       "      <td>9217</td>\n",
       "      <td>1</td>\n",
       "      <td>DL-8C</td>\n",
       "      <td>259</td>\n",
       "      <td>276199</td>\n",
       "      <td>6</td>\n",
       "      <td>0</td>\n",
       "      <td>0</td>\n",
       "      <td>0</td>\n",
       "      <td>...</td>\n",
       "      <td>0</td>\n",
       "      <td>0</td>\n",
       "      <td>0</td>\n",
       "      <td>0</td>\n",
       "      <td>0</td>\n",
       "      <td>0</td>\n",
       "      <td>0</td>\n",
       "      <td>0</td>\n",
       "      <td>0</td>\n",
       "      <td>0</td>\n",
       "    </tr>\n",
       "  </tbody>\n",
       "</table>\n",
       "<p>5 rows × 61 columns</p>\n",
       "</div>"
      ],
      "text/plain": [
       "   Unnamed: 0  Driven_kilometers  Num_of_owners Location  Name  Price1  \\\n",
       "0           0                 23              1    DL-4C   301  200199   \n",
       "1           1              12535              1    DL-12   259  321599   \n",
       "2           2               2589              1    UP-32   160  808699   \n",
       "3           3              40184              1    DL-8C   260  242299   \n",
       "4           4               9217              1    DL-8C   259  276199   \n",
       "\n",
       "   Total_years  Fuel_CNG  Fuel_CNG & HYBRIDS  Fuel_DIESEL  ...  \\\n",
       "0            7         0                   0            0  ...   \n",
       "1            7         0                   0            0  ...   \n",
       "2            0         0                   0            0  ...   \n",
       "3            8         0                   0            0  ...   \n",
       "4            6         0                   0            0  ...   \n",
       "\n",
       "   Company_Nissan  Company_Other  Company_Porsche  Company_Renault  \\\n",
       "0               0              0                0                0   \n",
       "1               0              0                0                0   \n",
       "2               0              0                0                0   \n",
       "3               0              0                0                0   \n",
       "4               0              0                0                0   \n",
       "\n",
       "   Company_Skoda  Company_Ssangyong  Company_Tata  Company_Toyota  \\\n",
       "0              0                  0             0               0   \n",
       "1              0                  0             0               0   \n",
       "2              0                  0             0               0   \n",
       "3              0                  0             0               0   \n",
       "4              0                  0             0               0   \n",
       "\n",
       "   Company_Volkswagen  Company_Volvo  \n",
       "0                   0              0  \n",
       "1                   0              0  \n",
       "2                   0              0  \n",
       "3                   0              0  \n",
       "4                   0              0  \n",
       "\n",
       "[5 rows x 61 columns]"
      ]
     },
     "execution_count": 37,
     "metadata": {},
     "output_type": "execute_result"
    }
   ],
   "source": [
    "df2.head()"
   ]
  },
  {
   "cell_type": "code",
   "execution_count": 38,
   "metadata": {},
   "outputs": [],
   "source": [
    "#dropped unnecessary columns\n",
    "df2.drop(\"Location\",axis=1,inplace=True)"
   ]
  },
  {
   "cell_type": "code",
   "execution_count": 39,
   "metadata": {},
   "outputs": [],
   "source": [
    "df2.drop(\"Unnamed: 0\",axis=1,inplace=True)"
   ]
  },
  {
   "cell_type": "code",
   "execution_count": 40,
   "metadata": {},
   "outputs": [],
   "source": [
    "#sepearate target variable\n",
    "x=df2.drop([\"Price1\"],axis=1)\n",
    "y=df2['Price1']"
   ]
  },
  {
   "cell_type": "code",
   "execution_count": 41,
   "metadata": {},
   "outputs": [],
   "source": [
    "#standard scaler\n",
    "from sklearn.preprocessing import StandardScaler\n",
    "st=StandardScaler()\n",
    "cols=['Driven_kilometers','Name']\n",
    "x[cols]=st.fit_transform(x[cols])\n"
   ]
  },
  {
   "cell_type": "code",
   "execution_count": 42,
   "metadata": {},
   "outputs": [],
   "source": [
    "x_1=pd.DataFrame(x,columns=x.columns)"
   ]
  },
  {
   "cell_type": "code",
   "execution_count": 43,
   "metadata": {},
   "outputs": [
    {
     "data": {
      "text/html": [
       "<div>\n",
       "<style scoped>\n",
       "    .dataframe tbody tr th:only-of-type {\n",
       "        vertical-align: middle;\n",
       "    }\n",
       "\n",
       "    .dataframe tbody tr th {\n",
       "        vertical-align: top;\n",
       "    }\n",
       "\n",
       "    .dataframe thead th {\n",
       "        text-align: right;\n",
       "    }\n",
       "</style>\n",
       "<table border=\"1\" class=\"dataframe\">\n",
       "  <thead>\n",
       "    <tr style=\"text-align: right;\">\n",
       "      <th></th>\n",
       "      <th>Driven_kilometers</th>\n",
       "      <th>Num_of_owners</th>\n",
       "      <th>Name</th>\n",
       "      <th>Total_years</th>\n",
       "      <th>Fuel_CNG</th>\n",
       "      <th>Fuel_CNG &amp; HYBRIDS</th>\n",
       "      <th>Fuel_DIESEL</th>\n",
       "      <th>Fuel_Diesel</th>\n",
       "      <th>Fuel_ELECTRIC</th>\n",
       "      <th>Fuel_LPG</th>\n",
       "      <th>...</th>\n",
       "      <th>Company_Nissan</th>\n",
       "      <th>Company_Other</th>\n",
       "      <th>Company_Porsche</th>\n",
       "      <th>Company_Renault</th>\n",
       "      <th>Company_Skoda</th>\n",
       "      <th>Company_Ssangyong</th>\n",
       "      <th>Company_Tata</th>\n",
       "      <th>Company_Toyota</th>\n",
       "      <th>Company_Volkswagen</th>\n",
       "      <th>Company_Volvo</th>\n",
       "    </tr>\n",
       "  </thead>\n",
       "  <tbody>\n",
       "    <tr>\n",
       "      <th>0</th>\n",
       "      <td>-1.160182</td>\n",
       "      <td>1</td>\n",
       "      <td>0.331323</td>\n",
       "      <td>7</td>\n",
       "      <td>0</td>\n",
       "      <td>0</td>\n",
       "      <td>0</td>\n",
       "      <td>0</td>\n",
       "      <td>0</td>\n",
       "      <td>0</td>\n",
       "      <td>...</td>\n",
       "      <td>0</td>\n",
       "      <td>0</td>\n",
       "      <td>0</td>\n",
       "      <td>0</td>\n",
       "      <td>0</td>\n",
       "      <td>0</td>\n",
       "      <td>0</td>\n",
       "      <td>0</td>\n",
       "      <td>0</td>\n",
       "      <td>0</td>\n",
       "    </tr>\n",
       "    <tr>\n",
       "      <th>1</th>\n",
       "      <td>-0.945951</td>\n",
       "      <td>1</td>\n",
       "      <td>-0.007760</td>\n",
       "      <td>7</td>\n",
       "      <td>0</td>\n",
       "      <td>0</td>\n",
       "      <td>0</td>\n",
       "      <td>0</td>\n",
       "      <td>0</td>\n",
       "      <td>0</td>\n",
       "      <td>...</td>\n",
       "      <td>0</td>\n",
       "      <td>0</td>\n",
       "      <td>0</td>\n",
       "      <td>0</td>\n",
       "      <td>0</td>\n",
       "      <td>0</td>\n",
       "      <td>0</td>\n",
       "      <td>0</td>\n",
       "      <td>0</td>\n",
       "      <td>0</td>\n",
       "    </tr>\n",
       "    <tr>\n",
       "      <th>2</th>\n",
       "      <td>-1.116247</td>\n",
       "      <td>1</td>\n",
       "      <td>-0.807026</td>\n",
       "      <td>0</td>\n",
       "      <td>0</td>\n",
       "      <td>0</td>\n",
       "      <td>0</td>\n",
       "      <td>0</td>\n",
       "      <td>0</td>\n",
       "      <td>0</td>\n",
       "      <td>...</td>\n",
       "      <td>0</td>\n",
       "      <td>0</td>\n",
       "      <td>0</td>\n",
       "      <td>0</td>\n",
       "      <td>0</td>\n",
       "      <td>0</td>\n",
       "      <td>0</td>\n",
       "      <td>0</td>\n",
       "      <td>0</td>\n",
       "      <td>0</td>\n",
       "    </tr>\n",
       "    <tr>\n",
       "      <th>3</th>\n",
       "      <td>-0.472543</td>\n",
       "      <td>1</td>\n",
       "      <td>0.000314</td>\n",
       "      <td>8</td>\n",
       "      <td>0</td>\n",
       "      <td>0</td>\n",
       "      <td>0</td>\n",
       "      <td>0</td>\n",
       "      <td>0</td>\n",
       "      <td>0</td>\n",
       "      <td>...</td>\n",
       "      <td>0</td>\n",
       "      <td>0</td>\n",
       "      <td>0</td>\n",
       "      <td>0</td>\n",
       "      <td>0</td>\n",
       "      <td>0</td>\n",
       "      <td>0</td>\n",
       "      <td>0</td>\n",
       "      <td>0</td>\n",
       "      <td>0</td>\n",
       "    </tr>\n",
       "    <tr>\n",
       "      <th>4</th>\n",
       "      <td>-1.002762</td>\n",
       "      <td>1</td>\n",
       "      <td>-0.007760</td>\n",
       "      <td>6</td>\n",
       "      <td>0</td>\n",
       "      <td>0</td>\n",
       "      <td>0</td>\n",
       "      <td>0</td>\n",
       "      <td>0</td>\n",
       "      <td>0</td>\n",
       "      <td>...</td>\n",
       "      <td>0</td>\n",
       "      <td>0</td>\n",
       "      <td>0</td>\n",
       "      <td>0</td>\n",
       "      <td>0</td>\n",
       "      <td>0</td>\n",
       "      <td>0</td>\n",
       "      <td>0</td>\n",
       "      <td>0</td>\n",
       "      <td>0</td>\n",
       "    </tr>\n",
       "  </tbody>\n",
       "</table>\n",
       "<p>5 rows × 58 columns</p>\n",
       "</div>"
      ],
      "text/plain": [
       "   Driven_kilometers  Num_of_owners      Name  Total_years  Fuel_CNG  \\\n",
       "0          -1.160182              1  0.331323            7         0   \n",
       "1          -0.945951              1 -0.007760            7         0   \n",
       "2          -1.116247              1 -0.807026            0         0   \n",
       "3          -0.472543              1  0.000314            8         0   \n",
       "4          -1.002762              1 -0.007760            6         0   \n",
       "\n",
       "   Fuel_CNG & HYBRIDS  Fuel_DIESEL  Fuel_Diesel  Fuel_ELECTRIC  Fuel_LPG  ...  \\\n",
       "0                   0            0            0              0         0  ...   \n",
       "1                   0            0            0              0         0  ...   \n",
       "2                   0            0            0              0         0  ...   \n",
       "3                   0            0            0              0         0  ...   \n",
       "4                   0            0            0              0         0  ...   \n",
       "\n",
       "   Company_Nissan  Company_Other  Company_Porsche  Company_Renault  \\\n",
       "0               0              0                0                0   \n",
       "1               0              0                0                0   \n",
       "2               0              0                0                0   \n",
       "3               0              0                0                0   \n",
       "4               0              0                0                0   \n",
       "\n",
       "   Company_Skoda  Company_Ssangyong  Company_Tata  Company_Toyota  \\\n",
       "0              0                  0             0               0   \n",
       "1              0                  0             0               0   \n",
       "2              0                  0             0               0   \n",
       "3              0                  0             0               0   \n",
       "4              0                  0             0               0   \n",
       "\n",
       "   Company_Volkswagen  Company_Volvo  \n",
       "0                   0              0  \n",
       "1                   0              0  \n",
       "2                   0              0  \n",
       "3                   0              0  \n",
       "4                   0              0  \n",
       "\n",
       "[5 rows x 58 columns]"
      ]
     },
     "execution_count": 43,
     "metadata": {},
     "output_type": "execute_result"
    }
   ],
   "source": [
    "x_1.head()"
   ]
  },
  {
   "cell_type": "code",
   "execution_count": 44,
   "metadata": {},
   "outputs": [],
   "source": [
    "from sklearn.ensemble import RandomForestRegressor"
   ]
  },
  {
   "cell_type": "code",
   "execution_count": 67,
   "metadata": {},
   "outputs": [
    {
     "name": "stdout",
     "output_type": "stream",
     "text": [
      "x_train shape (5019, 58)\n",
      "x_test shape (1673, 58)\n",
      "y_train shape (5019,)\n",
      "y_test shape (1673,)\n"
     ]
    }
   ],
   "source": [
    "# split training data for training and testing\n",
    "x_train,x_test,y_train,y_test=train_test_split(x_1,y,test_size=.25,random_state=219)\n",
    "print(\"x_train shape\",x_train.shape)\n",
    "print(\"x_test shape\",x_test.shape)\n",
    "print(\"y_train shape\",y_train.shape)\n",
    "print(\"y_test shape\",y_test.shape)"
   ]
  },
  {
   "cell_type": "code",
   "execution_count": null,
   "metadata": {},
   "outputs": [],
   "source": []
  },
  {
   "cell_type": "code",
   "execution_count": null,
   "metadata": {},
   "outputs": [],
   "source": []
  },
  {
   "cell_type": "code",
   "execution_count": 68,
   "metadata": {},
   "outputs": [],
   "source": [
    "#create instace of regression algorithm\n",
    "lr=LinearRegression()\n",
    "dtr=DecisionTreeRegressor()\n",
    "rf=RandomForestRegressor()\n",
    "svr=SVR()\n",
    "l1=Lasso(alpha=0.001)\n",
    "r1=Ridge(alpha=0.001)\n"
   ]
  },
  {
   "cell_type": "code",
   "execution_count": 69,
   "metadata": {},
   "outputs": [
    {
     "name": "stdout",
     "output_type": "stream",
     "text": [
      "accuracy_scores LinearRegression()\n",
      "r2_score 0.4674687461890442\n",
      "mean_squared_error 231764108396.26334\n",
      "mean_absolute_error 258732.22603485011\n",
      "accuracy_scores DecisionTreeRegressor()\n",
      "r2_score 0.7012651817148703\n",
      "mean_squared_error 130013043011.65211\n",
      "mean_absolute_error 147055.79796772264\n",
      "accuracy_scores RandomForestRegressor()\n",
      "r2_score 0.8553926996841921\n",
      "mean_squared_error 62934863982.99051\n",
      "mean_absolute_error 121308.64814888041\n",
      "accuracy_scores SVR()\n",
      "r2_score -0.05078857103084777\n",
      "mean_squared_error 457316025181.87787\n",
      "mean_absolute_error 310615.73047899746\n",
      "accuracy_scores Lasso(alpha=0.001)\n",
      "r2_score 0.4656743997152657\n",
      "mean_squared_error 232545029905.88965\n",
      "mean_absolute_error 258448.13751463423\n",
      "accuracy_scores Ridge(alpha=0.001)\n",
      "r2_score 0.4674724764481426\n",
      "mean_squared_error 231762484941.9255\n",
      "mean_absolute_error 258731.36615293552\n"
     ]
    }
   ],
   "source": [
    "#fit data  and predict \n",
    "list1=[lr,dtr,rf,svr,l1,r1]\n",
    "for i in list1:\n",
    "    i.fit(x_train,y_train)\n",
    "    pred=i.predict(x_test)\n",
    "    print(\"accuracy_scores\",i)\n",
    "    print(\"r2_score\",r2_score(y_test,pred))\n",
    "    print(\"mean_squared_error\",mean_squared_error(y_test,pred))\n",
    "    print(\"mean_absolute_error\",mean_absolute_error(y_test,pred))\n",
    "    "
   ]
  },
  {
   "cell_type": "markdown",
   "metadata": {},
   "source": [
    "Obsering above metrics we can conclude that RandomForestRegressor give hifg r2_score"
   ]
  },
  {
   "cell_type": "markdown",
   "metadata": {},
   "source": [
    "# HyperParameterTunning"
   ]
  },
  {
   "cell_type": "code",
   "execution_count": 70,
   "metadata": {},
   "outputs": [
    {
     "data": {
      "text/plain": [
       "GridSearchCV(cv=5, estimator=RandomForestRegressor(), n_jobs=-1,\n",
       "             param_grid={'bootstrap': [True, False],\n",
       "                         'max_features': ['auto', 'sqrt', 'log2'],\n",
       "                         'min_samples_split': [2, 4, 8],\n",
       "                         'n_estimators': [10, 20, 30]})"
      ]
     },
     "execution_count": 70,
     "metadata": {},
     "output_type": "execute_result"
    }
   ],
   "source": [
    "from sklearn.ensemble import RandomForestRegressor\n",
    "rf1 = RandomForestRegressor() \n",
    "\n",
    "from sklearn.model_selection import GridSearchCV\n",
    "param_grid = { \n",
    "            \"n_estimators\"      : [10,20,30],\n",
    "            \"max_features\"      : [\"auto\", \"sqrt\", \"log2\"],\n",
    "            \"min_samples_split\" : [2,4,8],\n",
    "            \"bootstrap\": [True, False],\n",
    "            }\n",
    "\n",
    "grid = GridSearchCV(estimator=rf, param_grid=param_grid, n_jobs=-1, cv=5)\n",
    "\n",
    "grid.fit(x_train,y_train)"
   ]
  },
  {
   "cell_type": "code",
   "execution_count": 71,
   "metadata": {},
   "outputs": [
    {
     "data": {
      "text/plain": [
       "{'bootstrap': False,\n",
       " 'max_features': 'sqrt',\n",
       " 'min_samples_split': 4,\n",
       " 'n_estimators': 20}"
      ]
     },
     "execution_count": 71,
     "metadata": {},
     "output_type": "execute_result"
    }
   ],
   "source": [
    "grid.best_params_"
   ]
  },
  {
   "cell_type": "code",
   "execution_count": 72,
   "metadata": {},
   "outputs": [
    {
     "name": "stdout",
     "output_type": "stream",
     "text": [
      "score [0.65477603 0.61695564 0.56479431 0.11027668 0.50882151]\n",
      "cross score mean value 0.491124834827942\n",
      "mean squared error 109943330852.28693\n",
      "0.7473799535568422\n"
     ]
    }
   ],
   "source": [
    "rf1=RandomForestRegressor(bootstrap=False,max_features= 'sqrt',min_samples_split=4,n_estimators=20)\n",
    "rf1.fit(x_train,y_train)\n",
    "rpred=rf1.predict(x_test)\n",
    "cv3=cross_val_score(rf1,x_train,y_train,cv=5)\n",
    "print(\"score\",cv3)\n",
    "print(\"cross score mean value\",cv3.mean())\n",
    "print('mean squared error',mean_squared_error(rpred,y_test))\n",
    "print(r2_score(y_test,rpred))"
   ]
  },
  {
   "cell_type": "markdown",
   "metadata": {},
   "source": [
    "After hyperparametertunnig r2_score of randomforestregressor didn't increase so we have to select above RandomForest model which gave r2_score high"
   ]
  },
  {
   "cell_type": "code",
   "execution_count": 73,
   "metadata": {},
   "outputs": [],
   "source": [
    "#creating object file\n",
    "import joblib"
   ]
  },
  {
   "cell_type": "code",
   "execution_count": 74,
   "metadata": {},
   "outputs": [
    {
     "data": {
      "text/plain": [
       "['car_prediction.obj']"
      ]
     },
     "execution_count": 74,
     "metadata": {},
     "output_type": "execute_result"
    }
   ],
   "source": [
    "joblib.dump(rf,\"car_prediction.obj\")"
   ]
  },
  {
   "cell_type": "code",
   "execution_count": 75,
   "metadata": {},
   "outputs": [],
   "source": [
    "file1=joblib.load(\"car_prediction.obj\")"
   ]
  },
  {
   "cell_type": "code",
   "execution_count": 76,
   "metadata": {},
   "outputs": [
    {
     "data": {
      "text/plain": [
       "array([1704374.82,  383318.  , 1208429.99, ...,  357743.05,  386209.51,\n",
       "        588725.  ])"
      ]
     },
     "execution_count": 76,
     "metadata": {},
     "output_type": "execute_result"
    }
   ],
   "source": [
    "file1.predict(x_test)"
   ]
  },
  {
   "cell_type": "code",
   "execution_count": null,
   "metadata": {},
   "outputs": [],
   "source": []
  }
 ],
 "metadata": {
  "kernelspec": {
   "display_name": "Python 3",
   "language": "python",
   "name": "python3"
  },
  "language_info": {
   "codemirror_mode": {
    "name": "ipython",
    "version": 3
   },
   "file_extension": ".py",
   "mimetype": "text/x-python",
   "name": "python",
   "nbconvert_exporter": "python",
   "pygments_lexer": "ipython3",
   "version": "3.8.5"
  }
 },
 "nbformat": 4,
 "nbformat_minor": 4
}
